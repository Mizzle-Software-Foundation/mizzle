{
 "cells": [
  {
   "cell_type": "markdown",
   "id": "1cc5594a",
   "metadata": {},
   "source": [
    "# Okay, how do the syntax rule files work?\n",
    "Well, in the syntaxrule.json file you have to include the command in mizzle, and then the lines that need to be outputted in python.\n",
    "\n",
    "\n",
    "e.g. {\"name\": \"input()\", \"value\": \"input()\"}\n",
    "\n",
    "\n",
    "(If you are a one line file, otherwise maybe wait until I feel like writing the docs fr.) we will handle the rest. \n",
    "\n",
    "\n",
    "#### Unless you are a library, not built in. \n",
    "#### Then you have to wait till mizzle v1.0 comes out.\n"
   ]
  }
 ],
 "metadata": {
  "language_info": {
   "name": "python"
  }
 },
 "nbformat": 4,
 "nbformat_minor": 5
}
